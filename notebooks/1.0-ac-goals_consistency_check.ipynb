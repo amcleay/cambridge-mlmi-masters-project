{
 "cells": [
  {
   "cell_type": "code",
   "execution_count": 1,
   "metadata": {},
   "outputs": [],
   "source": [
    "import os\n",
    "import sys\n",
    "import math\n",
    "import logging\n",
    "from pathlib import Path\n",
    "\n",
    "import numpy as np\n",
    "import scipy as sp\n",
    "import sklearn\n",
    "\n",
    "%load_ext autoreload\n",
    "%autoreload 2\n",
    "\n",
    "import matplotlib as mpl\n",
    "import matplotlib.pyplot as plt\n",
    "%matplotlib inline\n",
    "%config InlineBackend.figure_format = 'retina'\n",
    "\n",
    "# import seaborn as sns\n",
    "# sns.set_context(\"poster\")\n",
    "# sns.set(rc={\"figure.figsize\": (16, 9.)})\n",
    "# sns.set_style(\"whitegrid\")\n",
    "\n",
    "logging.basicConfig(level=logging.INFO, stream=sys.stdout)"
   ]
  },
  {
   "cell_type": "markdown",
   "metadata": {},
   "source": [
    "**PLEASE** save this file right now using the following naming convention: `NUMBER_FOR_SORTING-YOUR_INITIALS-SHORT_DESCRIPTION`, e.g. `1.0-fw-initial-data-exploration`. Use the number to order the file within the directory according to its usage."
   ]
  },
  {
   "cell_type": "markdown",
   "metadata": {},
   "source": [
    "# Setup"
   ]
  },
  {
   "cell_type": "code",
   "execution_count": 2,
   "metadata": {},
   "outputs": [],
   "source": [
    "MULTWIOZ21_PATH = \"/home/mifs/ac2123/dev/crazyneuraluser/baselines/data/multiwoz21/data.json\""
   ]
  },
  {
   "cell_type": "code",
   "execution_count": 3,
   "metadata": {},
   "outputs": [],
   "source": [
    "os.chdir(\"/home/mifs/ac2123/dev/crazyneuraluser/baselines/\")"
   ]
  },
  {
   "cell_type": "markdown",
   "metadata": {},
   "source": [
    "## Question: Are goal changes consistently annotated in MultiWOZ 2.1?"
   ]
  },
  {
   "cell_type": "code",
   "execution_count": 4,
   "metadata": {},
   "outputs": [],
   "source": [
    "from prettyprinter import pprint\n",
    "\n",
    "from utils import load_goals, CorpusGoalGenerator"
   ]
  },
  {
   "cell_type": "code",
   "execution_count": 5,
   "metadata": {},
   "outputs": [],
   "source": [
    "goal_id_subsample = ['MUL2674.json']"
   ]
  },
  {
   "cell_type": "code",
   "execution_count": 6,
   "metadata": {},
   "outputs": [],
   "source": [
    "goals = load_goals(MULTWIOZ21_PATH)\n",
    "# goals = {g_id: goals[g_id] for g_id in goal_id_subsample}"
   ]
  },
  {
   "cell_type": "markdown",
   "metadata": {},
   "source": [
    "An example of raw goal from the corpus. Note the difference between `info` and `fail_info` vs `book` and `fail_book` constraints:"
   ]
  },
  {
   "cell_type": "code",
   "execution_count": 7,
   "metadata": {},
   "outputs": [
    {
     "name": "stdout",
     "output_type": "stream",
     "text": [
      "{\n",
      "    'taxi': {},\n",
      "    'police': {},\n",
      "    'hospital': {},\n",
      "    'hotel': {\n",
      "        'info': {\n",
      "            'type': 'guesthouse',\n",
      "            'stars': '4',\n",
      "            'parking': 'yes'\n",
      "        },\n",
      "        'fail_info': {\n",
      "            'type': 'hotel',\n",
      "            'stars': '5',\n",
      "            'parking': 'yes'\n",
      "        },\n",
      "        'book': {\n",
      "            'pre_invalid': True,\n",
      "            'people': '8',\n",
      "            'day': 'monday',\n",
      "            'invalid': False,\n",
      "            'stay': '2'\n",
      "        },\n",
      "        'fail_book': {'stay': '3'}\n",
      "    },\n",
      "    'attraction': {\n",
      "        'info': {'type': 'college'},\n",
      "        'reqt': ['area', 'postcode'],\n",
      "        'fail_info': {}\n",
      "    },\n",
      "    'train': {},\n",
      "    'message': [\n",
      "        'You are looking for information in Cambridge',\n",
      "        \"You are looking for a <span class='emphasis'>place to stay</span>. \"\n",
      "            \"The hotel should have <span class='emphasis'>a star of 5</span> and \"\n",
      "            \"should <span class='emphasis'>include free parking</span>\",\n",
      "        \"The hotel should be in the type of <span \"\n",
      "            \"class='emphasis'>hotel</span>\",\n",
      "        \"If there is no such hotel, how about one that has <span \"\n",
      "            \"class='emphasis'>a star of 4</span>\",\n",
      "        \"Once you find the <span class='emphasis'>hotel</span> you want to \"\n",
      "            \"book it for <span class='emphasis'>8 people</span> and <span \"\n",
      "            \"class='emphasis'>3 nights</span> starting from <span \"\n",
      "            \"class='emphasis'>monday</span>\",\n",
      "        \"If the booking fails how about <span class='emphasis'>2 nights</span>\",\n",
      "        \"Make sure you get the <span class='emphasis'>reference number</span>\",\n",
      "        \"You are also looking for <span class='emphasis'>places to go</span> \"\n",
      "            \"in town. The attraction should be in the type of <span \"\n",
      "            \"class='emphasis'>college</span>\",\n",
      "        \"Make sure you get <span class='emphasis'>area</span> and <span \"\n",
      "            \"class='emphasis'>postcode</span>\"\n",
      "    ],\n",
      "    'restaurant': {}\n",
      "}\n"
     ]
    }
   ],
   "source": [
    "pprint(goals['MUL2674.json'][\"goal\"])"
   ]
  },
  {
   "cell_type": "markdown",
   "metadata": {},
   "source": [
    "The code below is implmented in `CorpusGoalGenerator.standardise_goal`:"
   ]
  },
  {
   "cell_type": "code",
   "execution_count": 8,
   "metadata": {},
   "outputs": [
    {
     "name": "stdout",
     "output_type": "stream",
     "text": [
      "'There were 10438 goals ..'\n",
      "'There were 1087 dialogues with booking failure'\n",
      "'Book inconsistent: 1087'\n",
      "'There were 4141 dialogues with info failure'\n",
      "'Info inconsistent: 0'\n"
     ]
    }
   ],
   "source": [
    "fields = [\"info\", \"book\"]\n",
    "fail_book_goals, fail_info_goals, total_goals = 0, 0, 0\n",
    "inconsistent_goals = {field: 0 for field in fields}\n",
    "for goal_id in goals:\n",
    "    total_goals += 1\n",
    "    corpus_goal = goals[goal_id][\"goal\"]\n",
    "    CorpusGoalGenerator._clean_goal(corpus_goal)\n",
    "    for domain in corpus_goal:\n",
    "        domain_goal = corpus_goal[domain]\n",
    "        for field in fields:\n",
    "            if field in domain_goal and f\"fail_{field}\" in domain_goal:\n",
    "                if field == 'book':\n",
    "                    fail_book_goals += 1\n",
    "                else:\n",
    "                    fail_info_goals += 1\n",
    "                assert domain_goal[field]\n",
    "                assert domain_goal[f\"fail_{field}\"]\n",
    "                field_keys = domain_goal[field].keys()\n",
    "                fail_field_keys = domain_goal[f\"fail_{field}\"].keys()\n",
    "                # check if the keys are the same in both * and fail_*\n",
    "                if field_keys != fail_field_keys:\n",
    "                    inconsistent_goals[field] += 1\n",
    "                # make sure slots are repeated across the two subgoals\n",
    "                for slot in field_keys:\n",
    "                    if slot not in fail_field_keys:\n",
    "                        domain_goal[f\"fail_{field}\"][slot] = domain_goal[field][\n",
    "                            slot\n",
    "                        ]\n",
    "pprint(f\"There were {total_goals} goals ..\")\n",
    "pprint(f\"There were {fail_book_goals} dialogues with booking failure\")\n",
    "pprint(f\"Book inconsistent: {inconsistent_goals['book']}\")\n",
    "pprint(f\"There were {fail_info_goals} dialogues with info failure\")\n",
    "pprint(f\"Info inconsistent: {inconsistent_goals['info']}\")"
   ]
  },
  {
   "cell_type": "markdown",
   "metadata": {},
   "source": [
    "Goal after standardisation. Note that `info`/`fail_info` and `book/fail_book` follow the same convention: slots are copied from `fail_book` to `book` if they are not already there with a different value. This ensures consistent evaluator behaviour across all subdomains."
   ]
  },
  {
   "cell_type": "code",
   "execution_count": 9,
   "metadata": {},
   "outputs": [
    {
     "name": "stdout",
     "output_type": "stream",
     "text": [
      "{\n",
      "    'hotel': {\n",
      "        'info': {\n",
      "            'type': 'guesthouse',\n",
      "            'stars': '4',\n",
      "            'parking': 'yes'\n",
      "        },\n",
      "        'fail_info': {\n",
      "            'type': 'hotel',\n",
      "            'stars': '5',\n",
      "            'parking': 'yes'\n",
      "        },\n",
      "        'book': {\n",
      "            'people': '8',\n",
      "            'day': 'monday',\n",
      "            'stay': '2'\n",
      "        },\n",
      "        'fail_book': {\n",
      "            'stay': '3',\n",
      "            'people': '8',\n",
      "            'day': 'monday'\n",
      "        }\n",
      "    },\n",
      "    'attraction': {\n",
      "        'info': {'type': 'college'},\n",
      "        'reqt': ['area', 'postcode']\n",
      "    }\n",
      "}\n"
     ]
    }
   ],
   "source": [
    "pprint(goals['MUL2674.json'][\"goal\"])"
   ]
  },
  {
   "cell_type": "code",
   "execution_count": null,
   "metadata": {},
   "outputs": [],
   "source": []
  }
 ],
 "metadata": {
  "kernelspec": {
   "display_name": "Python 3 (ipykernel)",
   "language": "python",
   "name": "python3"
  },
  "language_info": {
   "codemirror_mode": {
    "name": "ipython",
    "version": 3
   },
   "file_extension": ".py",
   "mimetype": "text/x-python",
   "name": "python",
   "nbconvert_exporter": "python",
   "pygments_lexer": "ipython3",
   "version": "3.7.10"
  },
  "pycharm": {
   "stem_cell": {
    "cell_type": "raw",
    "metadata": {
     "collapsed": false
    },
    "source": []
   }
  }
 },
 "nbformat": 4,
 "nbformat_minor": 2
}
